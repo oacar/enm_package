{
 "cells": [
  {
   "cell_type": "markdown",
   "metadata": {
    "toc": true
   },
   "outputs": [],
   "source": [
    "<h1>Table of Contents<span class=\"tocSkip\"></span></h1>\n",
    "<div class=\"toc\"><ul class=\"toc-item\"><li><span><a href=\"#Calculate-number-of-clusters-in-rewired\" data-toc-modified-id=\"Calculate-number-of-clusters-in-rewired-1\"><span class=\"toc-item-num\">1&nbsp;&nbsp;</span>Calculate number of clusters in rewired</a></span></li></ul></div>"
   ]
  },
  {
   "cell_type": "code",
   "execution_count": 2,
   "metadata": {},
   "outputs": [],
   "source": [
    "%config Completer.use_jedi = False"
   ]
  },
  {
   "cell_type": "code",
   "execution_count": 3,
   "metadata": {},
   "outputs": [],
   "source": [
    "import pandas as pd\n",
    "import numpy as np\n",
    "import networkx as nx\n",
    "import matplotlib.pyplot as plt\n",
    "from matplotlib.lines import Line2D\n",
    "from enm.Enm import Enm, rewire_network\n",
    "from enm.utils import *\n",
    "import pickle\n",
    "import random\n",
    "random.seed(4812)        # or any integer\n",
    "np.random.seed(4813)"
   ]
  },
  {
   "cell_type": "code",
   "execution_count": 4,
   "metadata": {
    "lines_to_next_cell": 2
   },
   "outputs": [],
   "source": [
    "strain_ids =pd.read_csv(snakemake.input.strain_ids)"
   ]
  },
  {
   "cell_type": "code",
   "execution_count": 5,
   "metadata": {},
   "outputs": [],
   "source": [
    "e = Enm('rew')"
   ]
  },
  {
   "cell_type": "code",
   "execution_count": 6,
   "metadata": {},
   "outputs": [],
   "source": [
    "e.read_network(snakemake.input.pcc_all,sep=',')"
   ]
  },
  {
   "cell_type": "code",
   "execution_count": 7,
   "metadata": {},
   "outputs": [],
   "source": [
    "gc_rew = rewire_network(e.graph_gc)\n",
    "e_rew = Enm('rewired')\n",
    "e_rew.G=gc_rew\n",
    "e_rew.giant_component()\n",
    "e_rew.gnm_analysis()\n",
    "e_rew.df = pd.merge(e_rew.df,strain_ids, left_on='orf_name',right_on='gene1')\n",
    "e_rew.get_sensor_effector(True)"
   ]
  },
  {
   "cell_type": "code",
   "execution_count": 9,
   "metadata": {},
   "outputs": [],
   "source": [
    "snakemake.input"
   ]
  },
  {
   "cell_type": "code",
   "execution_count": 11,
   "metadata": {},
   "outputs": [],
   "source": [
    "goea, geneid2name,a = create_goea(gaf=snakemake.input.gaf, \n",
    "                                  obo_fname=snakemake.input.obo,\n",
    "                                  background=snakemake.input.background_file,\n",
    "                               sgd_info_tab=snakemake.input.sgd_info)"
   ]
  },
  {
   "cell_type": "code",
   "execution_count": 12,
   "metadata": {
    "scrolled": false,
    "tags": []
   },
   "outputs": [],
   "source": [
    "e_rew.analyze_components_biology(goea, geneid2name,True)\n",
    "e_rew.analyze_components_biology(goea, geneid2name,False)"
   ]
  },
  {
   "cell_type": "code",
   "execution_count": 13,
   "metadata": {},
   "outputs": [],
   "source": [
    "e_rew.get_sensor_effector()"
   ]
  },
  {
   "cell_type": "code",
   "execution_count": 14,
   "metadata": {},
   "outputs": [],
   "source": [
    "sensors_pcc = e_rew.sensors_df"
   ]
  },
  {
   "cell_type": "code",
   "execution_count": 15,
   "metadata": {},
   "outputs": [],
   "source": [
    "pos = e_rew.graph_gc.nodes('pos')"
   ]
  },
  {
   "cell_type": "code",
   "execution_count": 16,
   "metadata": {},
   "outputs": [],
   "source": [
    "from matplotlib.lines import Line2D\n",
    "\n",
    "fig, ax = plt.subplots(figsize=(9,9))\n",
    "#axs = ax.ravel()\n",
    "legend_elements = [    ]\n",
    "\n",
    "#for i in range(len(sensor_order)):\n",
    "e_rew.plot_network_spring(ax=ax,\n",
    "                          node_size=1,\n",
    "                          node_color='black',\n",
    " #                        node_size = [100 if i in sensors_pcc.orf_name.values or i in effector_pcc.orf_name.values else 1 for i in e_pcc.nodes],\n",
    "                         #node_color = ['red' if i in sensors_pcc.orf_name.values else 'blue' if i in effector_pcc.orf_name.values else 'black' for i in e_pcc.nodes],\n",
    "                         edge_color='black',savefig=False)\n",
    "    #                         node_shape=['^' if i in sensors_pcc.orf_name.values else 'v' if i in effector_pcc.orf_name.values else 'o' for i in e_pcc.nodes])\n",
    "    # nx.draw_networkx_nodes(e_pcc.graph_gc, nodelist=sensors_pcc.orf_name.values, node_size=200, pos=pos,\n",
    "    #                           node_color='black',\n",
    "    #                           node_shape='^',edgecolors='black',\n",
    "    #                           linewidths=1)\n",
    "nx.draw_networkx_nodes(nx.induced_subgraph(e_rew.graph_gc, sensors_pcc.orf_name.tolist()),\n",
    "                       pos=pos, \n",
    "                       node_color='black', alpha=1, node_shape='^')\n",
    "\n",
    "# for itr, i in enumerate(sensor_order):\n",
    "#     #print(i, effector_colors[itr])\n",
    "\n",
    "#     orf_names_to_plot = sensors_pcc.loc[sensors_pcc.go_group==i, 'orf_name'].tolist()\n",
    "#     nx.draw_networkx_nodes(e_rew.graph_gc, nodelist=orf_names_to_plot, node_size=200, pos=pos,\n",
    "#                           node_color=sensor_colors[itr],\n",
    "#                           node_shape='^',edgecolors='black',\n",
    "#                           linewidths=1)\n",
    "#     legend_elements.append(\n",
    "#         Line2D([0], [0], marker='^', color='black', label=f'{i}',\n",
    "#                               markerfacecolor=sensor_colors[itr], markersize=30, linestyle=\"None\")\n",
    "#     )\n",
    "ax.set_facecolor('white')\n",
    "# legend_elements.append(\n",
    "#         Line2D([0], [0], marker='^', color='black', label=f'No GO Enrichment',\n",
    "#                               markerfacecolor='black', markersize=30, linestyle=\"None\")\n",
    "#     )\n",
    "legend_elements.extend(\n",
    "    [Line2D([0], [0], marker='^', color='black', label='Sensors',\n",
    "                              markerfacecolor='black', markersize=10, linestyle=\"None\"),\n",
    "     Line2D([0], [0], marker='o', color='black', label='Non-sensor Genes',\n",
    "                              markerfacecolor='black', markersize=10, linestyle=\"None\"),\n",
    "#                    Line2D([0], [0], marker='o', color='black', label='Effectors',\n",
    "#                               markerfacecolor='black', markersize=10, linestyle=\"None\"),\n",
    "                   \n",
    "                       Line2D([0], [0], marker='o', color='black', label= 'High functional similarity',\n",
    "                              markerfacecolor='black', markersize=0, linestyle=\"-\", alpha=0.5, lw=10),\n",
    "                   Line2D([0], [0], marker='o', color='red', label= 'Sensor-Sensor edges',\n",
    "                              markerfacecolor='#018571', markersize=0, linestyle=\"-\",lw=10)\n",
    "                   #Line2D([0], [0], marker='o', color='blue', label= 'Effector-Effector edges',\n",
    "    #                          markerfacecolor='#a6611a', markersize=0, linestyle=\"-\")\n",
    "    ]\n",
    ")\n",
    "lgd = ax.legend(handles=legend_elements, fontsize=22,\n",
    "                loc='center right', bbox_to_anchor=(1.8, 0.5),ncol=1,\n",
    "               frameon=False)\n",
    "nx.draw_networkx_edges(nx.induced_subgraph(e_rew.graph_gc, sensors_pcc.orf_name.tolist()),pos=pos, edge_color='red', alpha=0.5)\n",
    "ax.axis('off')\n",
    "#if snakemake.params['save']:\n",
    "#    plt.savefig(f'reports/figures/paper_figures_supp/figs1.png',bbox_inches='tight',dpi=150)"
   ]
  },
  {
   "cell_type": "markdown",
   "metadata": {},
   "outputs": [],
   "source": [
    "# Calculate number of clusters in rewired"
   ]
  },
  {
   "cell_type": "code",
   "execution_count": 17,
   "metadata": {
    "tags": []
   },
   "outputs": [],
   "source": [
    "with open(snakemake.input.pickle_file_name,'rb') as f:\n",
    "    e_pcc = pickle.load(f)"
   ]
  },
  {
   "cell_type": "code",
   "execution_count": 18,
   "metadata": {
    "jupyter": {
     "outputs_hidden": true
    },
    "tags": []
   },
   "outputs": [],
   "source": [
    "e_pcc.simulate_rewire(sim_num = snakemake.params['sim_num'])"
   ]
  },
  {
   "cell_type": "code",
   "execution_count": 19,
   "metadata": {
    "tags": []
   },
   "outputs": [],
   "source": [
    "for i in e_pcc.e_list:\n",
    "    i.df = pd.merge(i.df , strain_ids , left_on = 'orf_name', right_on='gene1')\n",
    "    i.get_sensor_effector()\n",
    "    i.analyze_components_biology(goea, geneid2name)"
   ]
  },
  {
   "cell_type": "code",
   "execution_count": 20,
   "metadata": {},
   "outputs": [],
   "source": [
    "def save_rewired_data(e_pcc, idx, path):\n",
    "    e = e_pcc.e_list[idx]\n",
    "    df_rew = e.df\n",
    "    sensors_df_rew = e.sensors_df\n",
    "    effectors_df_rew = e.effectors_df\n",
    "    g = e.graph_gc\n",
    "    MYDIR = (f\"{path}/{idx}\")\n",
    "    CHECK_FOLDER = os.path.isdir(MYDIR)\n",
    "\n",
    "    # If folder doesn't exist, then create it.\n",
    "    if not CHECK_FOLDER:\n",
    "        os.makedirs(MYDIR)\n",
    "        print(\"created folder : \", MYDIR)\n",
    "\n",
    "    else:\n",
    "        print(MYDIR, \"folder already exists.\")\n",
    "    df_rew.to_csv(f\"{path}/{idx}/df_rew_{idx}.csv\",index=False)\n",
    "    sensors_df_rew.to_csv(f\"{path}/{idx}/sensors_df_rew_{idx}.csv\",index=False)\n",
    "    effectors_df_rew.to_csv(f\"{path}/{idx}/effectors_df_rew_{idx}.csv\",index=False)\n",
    "    nx.write_edgelist(g, f\"{path}/{idx}/g_rew_{idx}.edgelist.gz\")"
   ]
  },
  {
   "cell_type": "code",
   "execution_count": 21,
   "metadata": {
    "tags": []
   },
   "outputs": [],
   "source": [
    "CHECK_FOLDER = os.path.isdir(snakemake.output.rewired_data_folder)\n",
    "\n",
    "# If folder doesn't exist, then create it.\n",
    "if not CHECK_FOLDER:\n",
    "    os.makedirs(snakemake.output.rewired_data_folder)\n",
    "   "
   ]
  },
  {
   "cell_type": "code",
   "execution_count": 22,
   "metadata": {
    "jupyter": {
     "outputs_hidden": true
    },
    "scrolled": true,
    "tags": []
   },
   "outputs": [],
   "source": [
    "[save_rewired_data(e_pcc,i,snakemake.output.rewired_data_folder) for i in range(snakemake.params['sim_num'])]"
   ]
  },
  {
   "cell_type": "code",
   "execution_count": 23,
   "metadata": {},
   "outputs": [],
   "source": [
    "import glob\n",
    "\n",
    "sensors_fls = glob.glob(f'{snakemake.output.rewired_data_folder}/sensors_df_rew*')"
   ]
  },
  {
   "cell_type": "code",
   "execution_count": 25,
   "metadata": {},
   "outputs": [],
   "source": [
    "sensors_df_rew = pd.concat([pd.read_csv(f'{snakemake.output.rewired_data_folder}/{idx}/sensors_df_rew_{idx}.csv') for idx in range(snakemake.params['sim_num'])],keys=range(snakemake.params['sim_num'])).reset_index(level=0)"
   ]
  },
  {
   "cell_type": "code",
   "execution_count": 26,
   "metadata": {},
   "outputs": [],
   "source": [
    "res = sensors_df_rew.groupby('level_0')['sensor_cluster'].nunique()\n",
    "res2 = sensors_df_rew.groupby('level_0')['go_group'].nunique()"
   ]
  },
  {
   "cell_type": "code",
   "execution_count": 27,
   "metadata": {},
   "outputs": [],
   "source": [
    "#res = [i.sensors_df.dropna(subset=['sensor_cluster']).sensor_cluster.nunique() for i in e_pcc.e_list]\n",
    "#res2 = [i.sensors_df.dropna(subset=['go_group']).go_group.nunique() for i in e_pcc.e_list]"
   ]
  },
  {
   "cell_type": "code",
   "execution_count": 28,
   "metadata": {},
   "outputs": [],
   "source": [
    "idxx = np.argwhere(np.array(res)>0).reshape(1,-1)[0]\n",
    "idxx2 = np.argwhere(np.array(res2)>0).reshape(1,-1)[0]"
   ]
  },
  {
   "cell_type": "markdown",
   "metadata": {},
   "outputs": [],
   "source": [
    "There are 68 rewired networks (out of 500) with a sensor cluster"
   ]
  },
  {
   "cell_type": "code",
   "execution_count": 29,
   "metadata": {},
   "outputs": [],
   "source": [
    "len(idxx)"
   ]
  },
  {
   "cell_type": "markdown",
   "metadata": {},
   "outputs": [],
   "source": [
    "This corresponds to 13.6% of rewired networks"
   ]
  },
  {
   "cell_type": "code",
   "execution_count": 30,
   "metadata": {},
   "outputs": [],
   "source": [
    "len(idxx)/len(res)"
   ]
  },
  {
   "cell_type": "markdown",
   "metadata": {},
   "outputs": [],
   "source": [
    "While 25% of these are GO enriched, that corresponds to only 3.4% of 500 cases"
   ]
  },
  {
   "cell_type": "code",
   "execution_count": 31,
   "metadata": {},
   "outputs": [],
   "source": [
    "len(idxx2)/len(res2)"
   ]
  },
  {
   "cell_type": "code",
   "execution_count": 32,
   "metadata": {},
   "outputs": [],
   "source": [
    "len(idxx2)/len(idxx)"
   ]
  },
  {
   "cell_type": "code",
   "execution_count": 65,
   "metadata": {},
   "outputs": [],
   "source": [
    "rewired_nw_list = [nx.read_edgelist(f'{snakemake.output.rewired_data_folder}/{idx}/g_rew_{idx}.edgelist.gz') for idx in range(500)]"
   ]
  },
  {
   "cell_type": "code",
   "execution_count": 74,
   "metadata": {},
   "outputs": [],
   "source": [
    "def plot_sensors(rew_list,idx ,sensors_df_list):\n",
    "    g =rew_list[idx]\n",
    "    sub_orfs =  sensors_df_list.loc[sensors_df_list.level_0==idx].dropna(subset=['sensor_cluster']).orf_name.tolist()\n",
    "    #g = e.graph_gc\n",
    "    induced_g = nx.induced_subgraph(g,sub_orfs)\n",
    "    sub_nw = get_subnetwork(g, sub_orfs, radius= 1)\n",
    "    pos_sub = nx.spring_layout(sub_nw)\n",
    "    fig, ax_ = plt.subplots() \n",
    "    nx.draw_networkx_nodes(sub_nw,ax=ax_, pos = pos_sub, node_color = ['none' if i in sub_orfs else 'k' for i in sub_nw.nodes])\n",
    "    nx.draw_networkx_nodes(nx.induced_subgraph(sub_nw, sub_orfs), pos=pos_sub, node_shape='^', node_color='black')\n",
    "    nx.draw_networkx_edges(sub_nw,ax=ax_, pos = pos_sub)\n",
    "    nx.draw_networkx_edges(nx.induced_subgraph(sub_nw, sub_orfs), pos=pos_sub, edge_color='red')\n",
    "    plt.show()\n",
    "    #nx.draw_networkx(sub_nw)"
   ]
  },
  {
   "cell_type": "code",
   "execution_count": 131,
   "metadata": {},
   "outputs": [],
   "source": [
    "def find_antenna_sensors(rew_list,idx ,sensors_df_list):\n",
    "    g =rew_list[idx]\n",
    "    sub_orfs =  sensors_df_list.loc[sensors_df_list.level_0==idx].dropna(subset=['sensor_cluster']).orf_name.tolist()\n",
    "    #g = e.graph_gc\n",
    "    induced_g = nx.induced_subgraph(g,sub_orfs)\n",
    "    sub_nw = get_subnetwork(g, sub_orfs, radius= 1)\n",
    "    all_nodes = sub_nw.nodes\n",
    "    sensor_nodes = sub_orfs\n",
    "    num_nonsensor = len(np.setdiff1d(all_nodes, sensor_nodes)) / len(list(nx.connected_components(sub_nw)))\n",
    "    #print(num_nonsensor)\n",
    "    return num_nonsensor==1, len(np.setdiff1d(all_nodes, sensor_nodes))"
   ]
  },
  {
   "cell_type": "code",
   "execution_count": 84,
   "metadata": {
    "collapsed": true,
    "jupyter": {
     "outputs_hidden": true
    },
    "tags": []
   },
   "outputs": [],
   "source": [
    "for i in idxx:\n",
    "    print(i)\n",
    "    plot_sensors(rewired_nw_list,i,sensors_df_rew)"
   ]
  },
  {
   "cell_type": "markdown",
   "metadata": {},
   "outputs": [],
   "source": [
    "%96 of rewired networks with a sensor cluster have that sensor cluster as antenna"
   ]
  },
  {
   "cell_type": "code",
   "execution_count": 129,
   "metadata": {
    "tags": []
   },
   "outputs": [],
   "source": []
  },
  {
   "cell_type": "code",
   "execution_count": 33,
   "metadata": {
    "lines_to_next_cell": 2
   },
   "outputs": [],
   "source": [
    "fig, ax =plt.subplots(figsize=(5,5))\n",
    "ax.hist(res,3,color='navajowhite')\n",
    "ax.set_xlabel('Number of sensor clusters')\n",
    "ax.set_ylabel('Count')\n",
    "ax.set_title('Number of sensor clusters\\nat 500 rewired networks\\ncompared to real network')\n",
    "ax.axvline(9,c='darkblue',linestyle='-.')\n",
    "plt.legend(handles = [\n",
    "    Line2D([0],[0],color='navajowhite',linewidth=10,label='Rewired'),\n",
    "    Line2D([0],[0],color='darkblue',linestyle='-.', label='Real')\n",
    "], loc='upper center')\n",
    "#if snakemake.params['save']:\n",
    " #   fig.savefig('reports/figures/paper_figures_supp/rewired_sensor_count.png', bbox_inches='tight',dpi=150)"
   ]
  },
  {
   "cell_type": "code",
   "execution_count": 57,
   "metadata": {
    "lines_to_next_cell": 2
   },
   "outputs": [],
   "source": [
    "fig, ax =plt.subplots(figsize=(5,5))\n",
    "ax.hist(sensors_df_rew.groupby('level_0')['go_group'].nunique(),3,color='navajowhite')\n",
    "ax.set_xlabel('Number of GO enriched sensor clusters')\n",
    "ax.set_ylabel('Count')\n",
    "ax.set_title('Number of GO enriched\\nsensor clusters\\nat 500 rewired networks\\ncompared to real network')\n",
    "ax.axvline(5,c='darkblue',linestyle='-.')\n",
    "plt.legend(handles = [\n",
    "    Line2D([0],[0],color='navajowhite',linewidth=10,label='Rewired'),\n",
    "    Line2D([0],[0],color='darkblue',linestyle='-.', label='Real')\n",
    "], loc='upper center')\n",
    "if snakemake.params['save']:\n",
    "    fig.savefig('reports/figures/paper_figures_supp/rewired_go_sensor_count.png', bbox_inches='tight',dpi=150)"
   ]
  },
  {
   "cell_type": "code",
   "execution_count": 176,
   "metadata": {
    "collapsed": true,
    "jupyter": {
     "outputs_hidden": true,
     "source_hidden": true
    },
    "lines_to_next_cell": 2,
    "tags": []
   },
   "outputs": [],
   "source": [
    "fig, ax =plt.subplots(figsize=(5,5))\n",
    "ax.hist(res,3,color='navajowhite')\n",
    "ax.set_xlabel('Number of sensor clusters')\n",
    "ax.set_ylabel('Count')\n",
    "ax.set_title('Number of sensor clusters\\nat 100 rewired networks\\ncompared to real network')\n",
    "ax.axvline(9,c='darkblue',linestyle='-.')\n",
    "plt.legend(handles = [\n",
    "    Line2D([0],[0],color='navajowhite',linewidth=10,label='Rewired'),\n",
    "    Line2D([0],[0],color='darkblue',linestyle='-.', label='Real')\n",
    "], loc='upper center')\n",
    "\n",
    "fig.savefig('../reports/figures/paper_figures_supp/rewired_sensor_count.png', bbox_inches='tight',dpi=150)"
   ]
  },
  {
   "cell_type": "code",
   "execution_count": 130,
   "metadata": {},
   "outputs": [],
   "source": [
    "sum([find_antenna_sensors(rewired_nw_list,i,sensors_df_rew) for i in idxx]) / len(idxx)"
   ]
  },
  {
   "cell_type": "code",
   "execution_count": 132,
   "metadata": {},
   "outputs": [],
   "source": [
    "rew_antenna = [find_antenna_sensors(rewired_nw_list,i,sensors_df_rew) for i in idxx]"
   ]
  },
  {
   "cell_type": "code",
   "execution_count": 140,
   "metadata": {},
   "outputs": [],
   "source": [
    "fig, ax =plt.subplots(figsize=(5,5))\n",
    "ax.hist([j for i,j in rew_antenna if i==True],3,color='navajowhite')\n",
    "ax.axvline(6,c='darkblue',linestyle='-.')\n",
    "ax.set_xlabel('Number of antenna motifs')\n",
    "ax.set_ylabel('Count')\n",
    "ax.set_title('Number of antenna motifs\\nat 68 rewired networks with sensor clusters\\ncompared to real network')\n",
    "plt.legend(handles = [\n",
    "    Line2D([0],[0],color='navajowhite',linewidth=10,label='Rewired'),\n",
    "    Line2D([0],[0],color='darkblue',linestyle='-.', label='Real')\n",
    "], loc='upper center')\n",
    "if snakemake.params['save']:\n",
    "    fig.savefig('reports/figures/paper_figures_supp/rewired_antenna_sensor_count.png', bbox_inches='tight',dpi=150)"
   ]
  }
 ],
 "metadata": {
  "jupytext": {
   "encoding": "# -*- coding: utf-8 -*-",
   "formats": "ipynb,py:percent"
  },
  "kernelspec": {
   "display_name": "Python (enm)",
   "language": "python",
   "name": "enm"
  },
  "language_info": {
   "codemirror_mode": {
    "name": "ipython",
    "version": 3
   },
   "file_extension": ".py",
   "mimetype": "text/x-python",
   "name": "python",
   "nbconvert_exporter": "python",
   "pygments_lexer": "ipython3",
   "version": "3.7.4"
  },
  "toc": {
   "base_numbering": 1,
   "nav_menu": {},
   "number_sections": true,
   "sideBar": true,
   "skip_h1_title": false,
   "title_cell": "Table of Contents",
   "title_sidebar": "Contents",
   "toc_cell": true,
   "toc_position": {},
   "toc_section_display": true,
   "toc_window_display": false
  }
 },
 "nbformat": 4,
 "nbformat_minor": 4
}
