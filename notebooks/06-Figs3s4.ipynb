{
 "cells": [
  {
   "cell_type": "code",
   "execution_count": 3,
   "metadata": {},
   "outputs": [],
   "source": [
    "import pandas as pd\n",
    "import networkx as nx\n",
    "import numpy as np\n",
    "import matplotlib.pyplot as plt\n",
    "from enm.utils import *"
   ]
  },
  {
   "cell_type": "code",
   "execution_count": 4,
   "metadata": {},
   "outputs": [],
   "source": [
    "thr_list = snakemake.params['thr_list']#[0.05,0.1,0.2,0.25,0.3,0.35,0.4]"
   ]
  },
  {
   "cell_type": "code",
   "execution_count": 5,
   "metadata": {},
   "outputs": [],
   "source": [
    "sensor_df_names = [ ]"
   ]
  },
  {
   "cell_type": "code",
   "execution_count": 6,
   "metadata": {},
   "outputs": [],
   "source": [
    "effector_dfs = get_result_dfs('effectors_df', thr_list, folder_prefix = snakemake.params['folder_prefix'])"
   ]
  },
  {
   "cell_type": "code",
   "execution_count": 7,
   "metadata": {},
   "outputs": [],
   "source": [
    "sensor_dfs =  get_result_dfs('sensors_df', thr_list, folder_prefix = snakemake.params['folder_prefix'])"
   ]
  },
  {
   "cell_type": "code",
   "execution_count": 8,
   "metadata": {},
   "outputs": [],
   "source": [
    "effector_sensor_go_dfs = get_result_dfs('effector_sensor_combined_go_df',thr_list, folder_prefix = snakemake.params['folder_prefix'])"
   ]
  },
  {
   "cell_type": "code",
   "execution_count": 10,
   "metadata": {},
   "outputs": [],
   "source": [
    "def plot_go_thr_comparison(dfs, col, yaxis,plotname, xlab='PCC Threshold', save=False):\n",
    "    n_goterms = []\n",
    "    rat_goterms = []\n",
    "    n_clusters = []\n",
    "    n_go_clusters = []\n",
    "    for i in thr_list:\n",
    "        df = dfs[i]\n",
    "        n_goterms.append(df.dropna(subset=['go_group']).shape[0])\n",
    "        rat_goterms.append(n_goterms[-1]/df.shape[0])\n",
    "        n_clusters.append(df.dropna(subset=[col]).loc[:,col].nunique())\n",
    "        n_go_clusters.append(df.dropna(subset=[col]).loc[:,'go_group'].nunique())\n",
    "        \n",
    "    fig, axs = plt.subplots(1,2,figsize=(5,2.5))\n",
    "    axs[0].plot(thr_list, n_clusters, 'o-')\n",
    "    axs[0].set_ylabel(f'Number of {yaxis} clusters', fontsize=12)\n",
    "    axs[0].set_xlabel(xlab, fontsize=12)\n",
    "    \n",
    "    axs[1].plot(thr_list, n_go_clusters, 'o-')\n",
    "    axs[1].set_ylabel(f'Number of go enriched\\n{yaxis} clusters', fontsize=12)\n",
    "    axs[1].set_xlabel(xlab, fontsize=12)\n",
    "    \n",
    "    plt.tight_layout()\n",
    "    if save:\n",
    "        fig.savefig(f'reports/figures/paper_figures_supp/{plotname}.png', bbox_inches='tight', dpi=150)\n",
    "    # axs[2].plot(thr_list, [i/j if i!=0 else 0 for i,j in zip(n_go_clusters,n_clusters) ], 'o-')\n",
    "    # axs[2].set_ylabel(f'% of go enriched {yaxis} clusters')\n",
    "    # axs[2].set_xlabel(xlab)"
   ]
  },
  {
   "cell_type": "code",
   "execution_count": 11,
   "metadata": {},
   "outputs": [],
   "source": [
    "plot_go_thr_comparison(sensor_dfs,'sensor_cluster', 'sensor',plotname='thr_num_sensor_clusters')"
   ]
  },
  {
   "cell_type": "code",
   "execution_count": 12,
   "metadata": {},
   "outputs": [],
   "source": [
    "plot_go_thr_comparison(effector_dfs,'effector_cluster', 'effector',plotname='thr_num_effector_clusters')"
   ]
  },
  {
   "cell_type": "code",
   "execution_count": 14,
   "metadata": {
    "lines_to_next_cell": 2
   },
   "outputs": [],
   "source": [
    "#effector_sensor_go_dfs\n",
    "go_overlap = pd.DataFrame({thr : \n",
    "              [len(np.intersect1d(effector_sensor_go_dfs[thr].loc[effector_sensor_go_dfs[thr].cluster_type=='effector','GO'], effector_sensor_go_dfs[i].loc[effector_sensor_go_dfs[i].cluster_type=='effector','GO'])) \n",
    "               if effector_sensor_go_dfs[i] is not None else 0 for i in thr_list]\n",
    "              if effector_sensor_go_dfs[thr] is not None else 0 for thr in sorted(thr_list)})\n",
    "go_overlap.index = thr_list\n",
    "def plot_heatmap_overlap(df, filename, title , cmap='YlGnBu' , figsize = (10,6), save=False):\n",
    "    import seaborn as sns\n",
    "    mask = np.zeros_like(df)\n",
    "    mask[np.tril_indices_from(mask, k=-1)] = True\n",
    "    with sns.axes_style(\"white\"):\n",
    "        f, ax = plt.subplots(figsize=figsize)\n",
    "        ax = sns.heatmap(100*df/ np.diag(df),annot=True, mask= mask, square=True, vmax=100, cbar=True, ax=ax, fmt='.1f',cmap=cmap)\n",
    "        ax.set_title(title)\n",
    "        \n",
    "        for t in ax.texts: \n",
    "            t.set_text(t.get_text() + \"%\")\n",
    "            t.set_size(9)\n",
    "        ax.set_xlabel(ax.get_xlabel(),fontsize=16)\n",
    "    if save:\n",
    "        plt.savefig(f'reports/figures/paper_figures_supp/{filename}.png', bbox_inches='tight',dpi=150)    \n",
    "\n",
    "plot_heatmap_overlap(go_overlap, 'go_overlap_test', 'GO term overlap for effectors\\nin different thresholds', figsize=(5,5))"
   ]
  },
  {
   "cell_type": "code",
   "execution_count": 15,
   "metadata": {},
   "outputs": [],
   "source": [
    "\n",
    "sensor_overlap = pd.DataFrame({thr : [len(np.intersect1d(sensor_dfs[thr].orf_name, sensor_dfs[i].orf_name)) for i in thr_list] for thr in sorted(thr_list)})\n",
    "sensor_overlap.index = thr_list\n",
    "\n",
    "effector_overlap = pd.DataFrame({thr : [len(np.intersect1d(effector_dfs[thr].orf_name, effector_dfs[i].orf_name)) for i in thr_list] for thr in sorted(thr_list)})\n",
    "effector_overlap.index = thr_list"
   ]
  },
  {
   "cell_type": "code",
   "execution_count": 16,
   "metadata": {},
   "outputs": [],
   "source": [
    "plot_heatmap_overlap(sensor_overlap, 'sensor_overlap', 'Sensor overlap for different thresholds', figsize=(5,5))"
   ]
  },
  {
   "cell_type": "code",
   "execution_count": 17,
   "metadata": {},
   "outputs": [],
   "source": [
    "plot_heatmap_overlap(effector_overlap, 'effector_overlap', 'Effector overlap for different thresholds', figsize=(5,5))"
   ]
  }
 ],
 "metadata": {
  "jupytext": {
   "formats": "ipynb,py:percent"
  },
  "kernelspec": {
   "display_name": "Python (enm)",
   "language": "python",
   "name": "enm"
  },
  "language_info": {
   "codemirror_mode": {
    "name": "ipython",
    "version": 3
   },
   "file_extension": ".py",
   "mimetype": "text/x-python",
   "name": "python",
   "nbconvert_exporter": "python",
   "pygments_lexer": "ipython3",
   "version": "3.7.4"
  },
  "toc": {
   "base_numbering": 1,
   "nav_menu": {},
   "number_sections": true,
   "sideBar": true,
   "skip_h1_title": false,
   "title_cell": "Table of Contents",
   "title_sidebar": "Contents",
   "toc_cell": true,
   "toc_position": {},
   "toc_section_display": true,
   "toc_window_display": false
  }
 },
 "nbformat": 4,
 "nbformat_minor": 4
}
