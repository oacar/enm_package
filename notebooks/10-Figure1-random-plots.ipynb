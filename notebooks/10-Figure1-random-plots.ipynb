{
 "cells": [
  {
   "cell_type": "code",
   "execution_count": 81,
   "metadata": {},
   "outputs": [],
   "source": [
    "import pandas as pd\n",
    "import networkx as nx\n",
    "import numpy as np\n",
    "import matplotlib.pyplot as plt\n",
    "from enm.utils import *\n",
    "from enm.Enm import Enm"
   ]
  },
  {
   "cell_type": "code",
   "execution_count": 123,
   "metadata": {},
   "outputs": [],
   "source": [
    "e = Enm('rew')"
   ]
  },
  {
   "cell_type": "code",
   "execution_count": 124,
   "metadata": {},
   "outputs": [],
   "source": [
    "ba = nx.barabasi_albert_graph(20, 1,1111)"
   ]
  },
  {
   "cell_type": "code",
   "execution_count": 152,
   "metadata": {},
   "outputs": [],
   "source": [
    "import random\n",
    "random.seed(1)"
   ]
  },
  {
   "cell_type": "code",
   "execution_count": 175,
   "metadata": {},
   "outputs": [],
   "source": [
    "pos = nx.spring_layout(ba)"
   ]
  },
  {
   "cell_type": "code",
   "execution_count": 181,
   "metadata": {},
   "outputs": [
    {
     "data": {
      "image/png": "[encoded data removed]",
      "text/plain": [
       "<Figure size 72x72 with 1 Axes>"
      ]
     },
     "metadata": {},
     "output_type": "display_data"
    }
   ],
   "source": [
    "fig, ax = plt.subplots(figsize=(1,1))\n",
    "nx.draw(ba,node_color='k', pos=pos,ax=ax, node_size=8)\n",
    "plt.savefig('../reports/figures/paper_figures_052521/fig1_random.png',dpi=150)"
   ]
  },
  {
   "cell_type": "code",
   "execution_count": 126,
   "metadata": {},
   "outputs": [],
   "source": [
    "e.G = ba"
   ]
  },
  {
   "cell_type": "code",
   "execution_count": 127,
   "metadata": {},
   "outputs": [],
   "source": [
    "e.giant_component()"
   ]
  },
  {
   "cell_type": "code",
   "execution_count": 128,
   "metadata": {},
   "outputs": [
    {
     "name": "stderr",
     "output_type": "stream",
     "text": [
      "@> 19 modes were calculated in 0.00s.\n",
      "@> Calculating covariance matrix\n",
      "@> Covariance matrix calculated in 0.0s.\n",
      "@> Calculating perturbation response\n",
      "@> Perturbation response matrix calculated in 0.0s.\n",
      "@> Perturbation response scanning completed in 0.0s.\n"
     ]
    }
   ],
   "source": [
    "e.gnm_analysis()"
   ]
  },
  {
   "cell_type": "code",
   "execution_count": 129,
   "metadata": {},
   "outputs": [
    {
     "data": {
      "text/plain": [
       "(20, 20)"
      ]
     },
     "execution_count": 129,
     "metadata": {},
     "output_type": "execute_result"
    }
   ],
   "source": [
    "e.prs_mat.shape"
   ]
  },
  {
   "cell_type": "code",
   "execution_count": 148,
   "metadata": {},
   "outputs": [],
   "source": [
    "e.figure_path='../reports/figures/paper_figures_052521/'\n"
   ]
  },
  {
   "cell_type": "code",
   "execution_count": 150,
   "metadata": {},
   "outputs": [
    {
     "name": "stderr",
     "output_type": "stream",
     "text": [
      "/home/oma21/enm_package/enm/visualize.py:180: UserWarning: FixedFormatter should only be used together with FixedLocator\n",
      "  ax_heatmap.set_xticklabels(idx1_cl, minor=False)\n",
      "/home/oma21/enm_package/enm/visualize.py:188: UserWarning: FixedFormatter should only be used together with FixedLocator\n",
      "  ax_heatmap.set_yticklabels(idx2_cl, minor=False)\n"
     ]
    },
    {
     "data": {
      "image/png": "[encoded data removed]",
      "text/plain": [
       "<Figure size 576x576 with 7 Axes>"
      ]
     },
     "metadata": {
      "needs_background": "light"
     },
     "output_type": "display_data"
    }
   ],
   "source": [
    "eff, sens = e.heatmap_annotated(figure_name = 'fig1a_4', save_figure=True)"
   ]
  },
  {
   "cell_type": "code",
   "execution_count": 143,
   "metadata": {},
   "outputs": [
    {
     "data": {
      "image/png": "[encoded data removed]",
      "text/plain": [
       "<Figure size 108x151.2 with 2 Axes>"
      ]
     },
     "metadata": {
      "needs_background": "light"
     },
     "output_type": "display_data"
    }
   ],
   "source": [
    "labelsize = 8\n",
    "fontsize=10\n",
    "fig, ax = plt.subplots(2,1,figsize=(1.5 ,2.1))\n",
    "ax[0].plot(range(20),eff)\n",
    "ax[0].set_ylabel('Effectiveness\\n(a.u.)',fontsize=fontsize)\n",
    "ax[0].set_xlabel('',fontsize=10)\n",
    "#ax[1].set_xlim(-0.0001,0.0081)\n",
    "ax[0].set_xlim(-0,20)\n",
    "ax[0].set_xticks([0,10,20])\n",
    "ax[0].tick_params(axis='x', labelsize= labelsize)\n",
    "ax[0].tick_params(axis='y', labelsize= labelsize)\n",
    "ax[0].set_yticks([0, 0.5])\n",
    "\n",
    "ax[1].plot(range(20), sens)\n",
    "ax[1].set_ylabel('Sensitivity\\n(a.u.)',fontsize=fontsize)\n",
    "ax[1].set_xlabel('Node id',fontsize=10)\n",
    "ax[1].set_xlim(-0,20)\n",
    "ax[1].tick_params(axis='x', labelsize= labelsize)\n",
    "ax[1].tick_params(axis='y', labelsize= labelsize)\n",
    "ax[1].set_yticks([0, 0.2])\n",
    "ax[1].set_xticks([0,10,20])\n",
    "plt.tight_layout()\n",
    "fig.align_ylabels()\n",
    "\n",
    "\n",
    "fig.savefig('../reports/figures/paper_figures_052521/fig1a_5.pdf', bbox_inches='tight', dpi=150)"
   ]
  },
  {
   "cell_type": "code",
   "execution_count": null,
   "metadata": {},
   "outputs": [],
   "source": []
  }
 ],
 "metadata": {
  "kernelspec": {
   "display_name": "Python (enm)",
   "language": "python",
   "name": "enm"
  },
  "language_info": {
   "codemirror_mode": {
    "name": "ipython",
    "version": 3
   },
   "file_extension": ".py",
   "mimetype": "text/x-python",
   "name": "python",
   "nbconvert_exporter": "python",
   "pygments_lexer": "ipython3",
   "version": "3.7.4"
  }
 },
 "nbformat": 4,
 "nbformat_minor": 4
}
