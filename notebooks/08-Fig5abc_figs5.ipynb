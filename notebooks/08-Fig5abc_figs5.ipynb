{
 "cells": [
  {
   "cell_type": "markdown",
   "metadata": {
    "toc": true
   },
   "source": [
    "<h1>Table of Contents<span class=\"tocSkip\"></span></h1>\n",
    "<div class=\"toc\"><ul class=\"toc-item\"><li><span><a href=\"#Find-all-shortest-paths-and-shortest-paths-with-highest-PRS-weight\" data-toc-modified-id=\"Find-all-shortest-paths-and-shortest-paths-with-highest-PRS-weight-1\"><span class=\"toc-item-num\">1&nbsp;&nbsp;</span>Find all shortest paths and shortest paths with highest PRS weight</a></span><ul class=\"toc-item\"><li><ul class=\"toc-item\"><li><span><a href=\"#Fig-S5A\" data-toc-modified-id=\"Fig-S5A-1.0.1\"><span class=\"toc-item-num\">1.0.1&nbsp;&nbsp;</span>Fig S5A</a></span></li></ul></li></ul></li><li><span><a href=\"#Calculate-GO-enrichment-of-paths-using-only-the-genes-on-the-path-(excl.-effector-and-sensor)\" data-toc-modified-id=\"Calculate-GO-enrichment-of-paths-using-only-the-genes-on-the-path-(excl.-effector-and-sensor)-2\"><span class=\"toc-item-num\">2&nbsp;&nbsp;</span>Calculate GO enrichment of paths using only the genes on the path (excl. effector and sensor)</a></span></li></ul></div>"
   ]
  },
  {
   "cell_type": "code",
   "execution_count": 2,
   "metadata": {},
   "outputs": [],
   "source": [
    "from matplotlib.lines import Line2D\n",
    "import matplotlib.pyplot as plt\n",
    "import matplotlib as mpl\n",
    "import networkx as nx\n",
    "import numpy as np\n",
    "import pandas as pd\n",
    "import pickle\n",
    "import os\n",
    "import re\n",
    "import itertools as itr\n",
    "import matplotlib as mpl\n",
    "import seaborn as sns\n",
    "from enm.Enm import Enm\n",
    "from enm.utils import *\n",
    "from tqdm import tqdm"
   ]
  },
  {
   "cell_type": "code",
   "execution_count": 3,
   "metadata": {},
   "outputs": [],
   "source": [
    "with open(snakemake.input.pickle_file_name , 'rb') as f:\n",
    "    e_pcc = pickle.load(f)"
   ]
  },
  {
   "cell_type": "code",
   "execution_count": 4,
   "metadata": {},
   "outputs": [],
   "source": [
    "nodes = e_pcc.nodes\n",
    "n = len(nodes)"
   ]
  },
  {
   "cell_type": "code",
   "execution_count": 5,
   "metadata": {},
   "outputs": [],
   "source": [
    "effectors_df = pd.read_csv(snakemake.input.effector_pcc)"
   ]
  },
  {
   "cell_type": "code",
   "execution_count": 6,
   "metadata": {},
   "outputs": [],
   "source": [
    "sensors_df = pd.read_csv(snakemake.input.sensors_pcc)"
   ]
  },
  {
   "cell_type": "markdown",
   "metadata": {},
   "source": [
    "# Find all shortest paths and shortest paths with highest PRS weight"
   ]
  },
  {
   "cell_type": "code",
   "execution_count": 7,
   "metadata": {},
   "outputs": [],
   "source": [
    "def find_all_shortest_paths(sources, targets, g):\n",
    "    paths = []\n",
    "    counts = []\n",
    "    for s in sources.orf_name.tolist():\n",
    "        w_track=0\n",
    "        for t in targets.orf_name.tolist():\n",
    "            p = list(nx.all_shortest_paths(g, s, t))\n",
    "#            counts.append(len(p))\n",
    "#            p_weights = [prs_mat_df.loc[s,pp].sum() for pp in p]\n",
    "            paths.extend(p)\n",
    "    #\n",
    "    shortest_paths = [i for i in paths if len(i) == np.min([len(uu) for uu in paths])]\n",
    "    #path_weights = [prs_mat_df.loc[pp[0],pp].sum() for pp in shortest_paths]\n",
    "    return shortest_paths#[np.argmax(path_weights)], counts \n",
    "#    return paths"
   ]
  },
  {
   "cell_type": "code",
   "execution_count": 8,
   "metadata": {},
   "outputs": [],
   "source": [
    "def find_highest_prs_path(sources, targets, g, prs_mat_df):\n",
    "    paths = []\n",
    "    counts = []\n",
    "    for s in sources.orf_name.tolist():\n",
    "        w_track=0\n",
    "        for t in targets.orf_name.tolist():\n",
    "            p = list(nx.all_shortest_paths(g, s, t))\n",
    "            counts.append(len(p))\n",
    "            p_weights = [prs_mat_df.loc[s,pp].sum() for pp in p]\n",
    "            paths.append(p[np.argmax(p_weights)])\n",
    "    #\n",
    "    shortest_paths = [i for i in paths if len(i) == np.min([len(uu) for uu in paths])]\n",
    "    path_weights = [prs_mat_df.loc[pp[0],pp].sum() for pp in shortest_paths]\n",
    "    return shortest_paths[np.argmax(path_weights)], counts \n",
    "#    return paths"
   ]
  },
  {
   "cell_type": "code",
   "execution_count": 9,
   "metadata": {},
   "outputs": [],
   "source": [
    "all_paths = {0:{} , 1:{}, 2:{}}\n",
    "all_path_counts ={0:{} , 1:{}, 2:{}}"
   ]
  },
  {
   "cell_type": "code",
   "execution_count": 10,
   "metadata": {},
   "outputs": [],
   "source": [
    "all_shortest_paths = {0:{},1:{},2:{}}"
   ]
  },
  {
   "cell_type": "code",
   "execution_count": 11,
   "metadata": {},
   "outputs": [],
   "source": [
    "#counts = []\n",
    "for i in range(3):\n",
    "    sources = effectors_df.loc[effectors_df.effector_cluster==i]\n",
    "    for j in np.arange(1,10):\n",
    "        targets = sensors_df.loc[sensors_df.gid==j]\n",
    "        p= find_all_shortest_paths(sources, targets,e_pcc.graph_gc)\n",
    "        all_shortest_paths[i][j]=p\n",
    "        #all_path_counts[i][j] = c\n",
    "        #counts.append(c)"
   ]
  },
  {
   "cell_type": "code",
   "execution_count": 12,
   "metadata": {},
   "outputs": [],
   "source": [
    "all_shortest_paths_counts = np.zeros((3,10))"
   ]
  },
  {
   "cell_type": "code",
   "execution_count": 13,
   "metadata": {},
   "outputs": [],
   "source": [
    "for i in range(3):\n",
    "    for j in range(1,10):\n",
    "        c = len(all_shortest_paths[i][j])\n",
    "        all_shortest_paths_counts[i][j] = c"
   ]
  },
  {
   "cell_type": "code",
   "execution_count": 14,
   "metadata": {},
   "outputs": [],
   "source": [
    "np.set_printoptions(suppress=True)\n",
    "all_shortest_paths_counts"
   ]
  },
  {
   "cell_type": "markdown",
   "metadata": {},
   "source": [
    "Total shortest paths between effector and sensor clusters"
   ]
  },
  {
   "cell_type": "markdown",
   "metadata": {},
   "source": [
    "### Fig S5A"
   ]
  },
  {
   "cell_type": "code",
   "execution_count": 15,
   "metadata": {},
   "outputs": [],
   "source": [
    "fig, ax = plt.subplots(figsize=(7,2.5))\n",
    "sns.heatmap(pd.DataFrame(all_shortest_paths_counts[:,1:],index=['EC1','EC2','EC3'],columns=[f\"SC{i}\" for i in range(1,10)]),\n",
    "           annot=True, ax = ax, fmt='.0f',linewidths=.5, cmap='Blues',cbar_kws={\"orientation\": \"horizontal\"})\n",
    "plt.yticks(rotation=0) \n",
    "if snakemake.params.save:\n",
    "    fig.savefig('reports/figures/paper_figures_supp/figs5_a.png',dpi=150, bbox_inches='tight')"
   ]
  },
  {
   "cell_type": "code",
   "execution_count": 16,
   "metadata": {},
   "outputs": [],
   "source": [
    "all_shortest_paths_counts.sum()"
   ]
  },
  {
   "cell_type": "markdown",
   "metadata": {},
   "source": [
    "# Calculate GO enrichment of paths using only the genes on the path (excl. effector and sensor)"
   ]
  },
  {
   "cell_type": "code",
   "execution_count": 17,
   "metadata": {
    "scrolled": true
   },
   "outputs": [],
   "source": [
    "%%capture\n",
    "gaf = snakemake.input['gaf']\n",
    "obo = snakemake.input['obo']\n",
    "background_file = snakemake.input['background_file']\n",
    "sgd_info = snakemake.input['sgd_info']\n",
    "pickle_file = snakemake.input['pickle_file_name']\n",
    "goea, geneid2name, _ = create_goea(gaf = gaf, obo_fname=obo, \n",
    "                                background=background_file, sgd_info_tab = sgd_info)"
   ]
  },
  {
   "cell_type": "code",
   "execution_count": 21,
   "metadata": {},
   "outputs": [],
   "source": [
    "counts = []\n",
    "for i in range(3):\n",
    "    sources = effectors_df.loc[effectors_df.effector_cluster==i]\n",
    "    for j in np.arange(1,10):\n",
    "        targets = sensors_df.loc[sensors_df.gid==j]\n",
    "        p,c = find_highest_prs_path(sources, targets,e_pcc.graph_gc, e_pcc.prs_mat_df)\n",
    "        all_paths[i][j]=p\n",
    "        all_path_counts[i][j] = c\n",
    "        #counts.append(c)"
   ]
  },
  {
   "cell_type": "code",
   "execution_count": 22,
   "metadata": {
    "tags": []
   },
   "outputs": [],
   "source": [
    "#%%capture\n",
    "goa_go_dict = {0:{},1:{},2:{}}\n",
    "for i in range(3):\n",
    "    #sources = effectors_df.loc[effectors_df.effector_cluster==i]\n",
    "    for j in np.arange(1,10):\n",
    "        #targets = sensors_df.loc[sensors_df.gid==j]\n",
    "        p= all_paths[i][j]\n",
    "        p_sub = p[1:-1]\n",
    "        p_sub_df = e_pcc.df.loc[e_pcc.df.orf_name.isin(p_sub)]\n",
    "        go_res = query_goatools(p_sub_df, goea,geneid2name)\n",
    "        goa_go_dict[i][j] = go_res\n",
    "        ##all_shortest_paths[i][j]=p\n",
    "        \n",
    "        #all_path_counts[i][j] = c\n",
    "        #counts.append(c)"
   ]
  },
  {
   "cell_type": "markdown",
   "metadata": {},
   "source": [
    "There are 12 paths with no GO enrichments"
   ]
  },
  {
   "cell_type": "code",
   "execution_count": 23,
   "metadata": {},
   "outputs": [],
   "source": [
    "len([val_sub for key, val in goa_go_dict.items() for _, val_sub in val.items() if val_sub is None])"
   ]
  },
  {
   "cell_type": "code",
   "execution_count": 111,
   "metadata": {},
   "outputs": [],
   "source": [
    "sensor_colors = [mpl.colors.to_hex(i) for i in sns.color_palette('Set3')]\n",
    "effector_colors = [\"#A65628\", \"#F781BF\", \"#999999\",'blue','yellow','red']\n"
   ]
  },
  {
   "cell_type": "code",
   "execution_count": 175,
   "metadata": {},
   "outputs": [],
   "source": [
    "name_dict = e_pcc.df.loc[:,['orf_name','Systematic gene name']].set_index('orf_name').to_dict()['Systematic gene name']"
   ]
  },
  {
   "cell_type": "code",
   "execution_count": 166,
   "metadata": {},
   "outputs": [],
   "source": [
    "all_paths"
   ]
  },
  {
   "cell_type": "code",
   "execution_count": 159,
   "metadata": {},
   "outputs": [],
   "source": [
    "effectors_df['cluster']=['EC'+str(i+1) for i in effectors_df['effector_cluster'].tolist()]\n",
    "effectors_df['is_effector']=True"
   ]
  },
  {
   "cell_type": "code",
   "execution_count": 140,
   "metadata": {},
   "outputs": [],
   "source": [
    "sensors_df['cluster']=['SC'+str(i) for i in sensors_df['gid'].tolist()]\n",
    "sensors_df['is_sensor']=True"
   ]
  },
  {
   "cell_type": "code",
   "execution_count": 141,
   "metadata": {},
   "outputs": [],
   "source": [
    "pd.concat([effectors_df,sensors_df]).to_csv(snakemake.output.combined_data_for_colors,index=False)"
   ]
  },
  {
   "cell_type": "code",
   "execution_count": 133,
   "metadata": {},
   "outputs": [],
   "source": [
    "node_list = [*effectors_df.loc[effectors_df.effector_cluster==0].orf_name.tolist(), \n",
    "             *sensors_df.loc[sensors_df.gid!=0].orf_name.tolist(),\n",
    "             *[item for sublist in [v for key,v in all_paths[0].items()] for item in sublist]]\n",
    "\n",
    "node_sub = nx.induced_subgraph(e_pcc.graph_gc, node_list)\n",
    "\n",
    "nx.draw(node_sub)\n",
    "nx.write_edgelist(nx.induced_subgraph(e_pcc.graph_gc,node_list),snakemake.output.ec1, delimiter=',',data=False)"
   ]
  },
  {
   "cell_type": "code",
   "execution_count": 134,
   "metadata": {},
   "outputs": [],
   "source": [
    "node_list = [*effectors_df.loc[effectors_df.effector_cluster==1].orf_name.tolist(), \n",
    "             *sensors_df.loc[sensors_df.gid!=0].orf_name.tolist(),\n",
    "             *[item for sublist in [v for key,v in all_paths[1].items()] for item in sublist]]\n",
    "\n",
    "node_sub = nx.induced_subgraph(e_pcc.graph_gc, node_list)\n",
    "\n",
    "nx.draw(node_sub)\n",
    "nx.write_edgelist(nx.induced_subgraph(e_pcc.graph_gc,node_list),snakemake.output.ec2, delimiter=',',data=False)"
   ]
  },
  {
   "cell_type": "code",
   "execution_count": 135,
   "metadata": {},
   "outputs": [],
   "source": [
    "node_list = [*effectors_df.loc[effectors_df.effector_cluster==2].orf_name.tolist(), \n",
    "             *sensors_df.loc[sensors_df.gid!=0].orf_name.tolist(),\n",
    "             *[item for sublist in [v for key,v in all_paths[2].items()] for item in sublist]]\n",
    "\n",
    "node_sub = nx.induced_subgraph(e_pcc.graph_gc, node_list)\n",
    "\n",
    "nx.draw(node_sub)\n",
    "nx.write_edgelist(nx.induced_subgraph(e_pcc.graph_gc,node_list),snakemake.output.ec3, delimiter=',',data=False)"
   ]
  },
  {
   "cell_type": "code",
   "execution_count": 107,
   "metadata": {
    "tags": []
   },
   "outputs": [],
   "source": [
    "pos = e_pcc.graph_gc.nodes('pos')"
   ]
  },
  {
   "cell_type": "code",
   "execution_count": 160,
   "metadata": {},
   "outputs": [],
   "source": [
    "sensor_color_map = dict(zip(sensors_df.cluster.sort_values().unique()[1:10],sensor_colors[1:10]))\n",
    "effector_color_map = dict(zip(effectors_df.cluster.sort_values().unique(),effector_colors[:3]))"
   ]
  },
  {
   "cell_type": "code",
   "execution_count": 619,
   "metadata": {},
   "outputs": [],
   "source": [
    "sensor_legend_elements = [Line2D([0], [0], marker='^', color='black', label=label,\n",
    "                              markerfacecolor=color, markersize=10, linestyle=\"None\") for label,color in sensor_color_map.items()] \n",
    "effector_legend_elements = [Line2D([0], [0], marker='s', color='black', label=label,\n",
    "                              markerfacecolor=color, markersize=10, linestyle=\"None\") for label,color in effector_color_map.items()] "
   ]
  },
  {
   "cell_type": "code",
   "execution_count": 620,
   "metadata": {},
   "outputs": [],
   "source": [
    "legend_elements = [*effector_legend_elements, \n",
    "                   *sensor_legend_elements,\n",
    "                   *[Line2D([0], [0], marker='o', color='black', label='Other Genes',\n",
    "                              markerfacecolor='black', markersize=10, linestyle=\"None\"),\n",
    "                     Line2D([0], [0], marker='o', color='black', label= 'PCC ≥ 0.2',\n",
    "                              markerfacecolor='black', markersize=0, linestyle=\"-\", alpha=0.5, lw=5)\n",
    "                    ]]"
   ]
  },
  {
   "cell_type": "code",
   "execution_count": 627,
   "metadata": {},
   "outputs": [],
   "source": [
    "fig = plt.figure()\n",
    "figlegend = plt.figure(figsize=(3,1))\n",
    "ax = fig.add_subplot(111)\n",
    "#lines = ax.plot(range(10), plt.randn(10), range(10), plt.randn(10))\n",
    "ax.axis('off')\n",
    "lgd = ax.legend(handles=legend_elements,\n",
    "                handletextpad=0.1, \n",
    "                labelspacing=0.4, \n",
    "                borderpad=0,\n",
    "                columnspacing=0.4,\n",
    "                fontsize=16, \n",
    "                ncol=2,\n",
    "                frameon=False, \n",
    "                loc = 'center',\n",
    "                bbox_to_anchor=(0., 0., 1, 1))\n",
    "#if snakemake.params['save']:\n",
    "#fig.savefig(f'../reports/figures/paper_figures_supp/figs6_legend.pdf', dpi=150, pad_inches=0)#, bbox_inches='tight')"
   ]
  }
 ],
 "metadata": {
  "kernelspec": {
   "display_name": "Python (enm)",
   "language": "python",
   "name": "enm"
  },
  "language_info": {
   "codemirror_mode": {
    "name": "ipython",
    "version": 3
   },
   "file_extension": ".py",
   "mimetype": "text/x-python",
   "name": "python",
   "nbconvert_exporter": "python",
   "pygments_lexer": "ipython3",
   "version": "3.7.4"
  },
  "toc": {
   "base_numbering": 1,
   "nav_menu": {},
   "number_sections": true,
   "sideBar": true,
   "skip_h1_title": false,
   "title_cell": "Table of Contents",
   "title_sidebar": "Contents",
   "toc_cell": true,
   "toc_position": {},
   "toc_section_display": true,
   "toc_window_display": false
  }
 },
 "nbformat": 4,
 "nbformat_minor": 4
}
