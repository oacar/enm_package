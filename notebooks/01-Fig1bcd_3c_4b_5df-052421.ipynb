{
 "cells": [
  {
   "cell_type": "markdown",
   "metadata": {
    "toc": true
   },
   "source": [
    "<h1>Table of Contents<span class=\"tocSkip\"></span></h1>\n",
    "<div class=\"toc\"><ul class=\"toc-item\"><li><span><a href=\"#Import-packages\" data-toc-modified-id=\"Import-packages-1\"><span class=\"toc-item-num\">1&nbsp;&nbsp;</span>Import packages</a></span></li><li><span><a href=\"#Read-Enm-pickle-object\" data-toc-modified-id=\"Read-Enm-pickle-object-2\"><span class=\"toc-item-num\">2&nbsp;&nbsp;</span>Read Enm pickle object</a></span></li><li><span><a href=\"#Calculate-node-positions-with-spring-layout\" data-toc-modified-id=\"Calculate-node-positions-with-spring-layout-3\"><span class=\"toc-item-num\">3&nbsp;&nbsp;</span>Calculate node positions with spring layout</a></span></li><li><span><a href=\"#Network-plot\" data-toc-modified-id=\"Network-plot-4\"><span class=\"toc-item-num\">4&nbsp;&nbsp;</span>Network plot</a></span><ul class=\"toc-item\"><li><span><a href=\"#Figure-1B,-left\" data-toc-modified-id=\"Figure-1B,-left-4.1\"><span class=\"toc-item-num\">4.1&nbsp;&nbsp;</span>Figure 1B, left</a></span></li><li><span><a href=\"#Figure-1B,-right\" data-toc-modified-id=\"Figure-1B,-right-4.2\"><span class=\"toc-item-num\">4.2&nbsp;&nbsp;</span>Figure 1B, right</a></span></li></ul></li><li><span><a href=\"#Figure-1C\" data-toc-modified-id=\"Figure-1C-5\"><span class=\"toc-item-num\">5&nbsp;&nbsp;</span>Figure 1C</a></span></li><li><span><a href=\"#Figure-1D\" data-toc-modified-id=\"Figure-1D-6\"><span class=\"toc-item-num\">6&nbsp;&nbsp;</span>Figure 1D</a></span></li><li><span><a href=\"#Figure-3C\" data-toc-modified-id=\"Figure-3C-7\"><span class=\"toc-item-num\">7&nbsp;&nbsp;</span>Figure 3C</a></span></li><li><span><a href=\"#Figure-4B\" data-toc-modified-id=\"Figure-4B-8\"><span class=\"toc-item-num\">8&nbsp;&nbsp;</span>Figure 4B</a></span></li><li><span><a href=\"#Figure-5D/F\" data-toc-modified-id=\"Figure-5D/F-9\"><span class=\"toc-item-num\">9&nbsp;&nbsp;</span>Figure 5D/F</a></span></li></ul></div>"
   ]
  },
  {
   "cell_type": "markdown",
   "metadata": {},
   "source": [
    "# Import packages"
   ]
  },
  {
   "cell_type": "code",
   "execution_count": 2,
   "metadata": {},
   "outputs": [],
   "source": [
    "%load_ext autoreload\n",
    "%autoreload 2\n",
    "from matplotlib.lines import Line2D\n",
    "import matplotlib.pyplot as plt\n",
    "import matplotlib as mpl\n",
    "import networkx as nx\n",
    "import numpy as np\n",
    "import pandas as pd\n",
    "import pickle\n",
    "import os\n",
    "import re\n",
    "import itertools as itr\n",
    "from enm.Enm import Enm\n",
    "from enm.utils import *"
   ]
  },
  {
   "cell_type": "code",
   "execution_count": 3,
   "metadata": {},
   "outputs": [],
   "source": [
    "#os.chdir('../')\n",
    "figure_folder = \"reports/figures/paper_figures_052521\""
   ]
  },
  {
   "cell_type": "markdown",
   "metadata": {},
   "source": [
    "# Read Enm pickle object"
   ]
  },
  {
   "cell_type": "code",
   "execution_count": 4,
   "metadata": {},
   "outputs": [],
   "source": [
    "with open(snakemake.input.pickle_file_name,'rb') as f:\n",
    "    e_pcc = pickle.load(f)\n",
    "\n"
   ]
  },
  {
   "cell_type": "markdown",
   "metadata": {},
   "source": [
    "# Calculate node positions with spring layout"
   ]
  },
  {
   "cell_type": "markdown",
   "metadata": {},
   "source": [
    "**This could be different from the ones shown in paper due to random node position calculation**\n",
    "\n",
    "This does not change any claims in the paper"
   ]
  },
  {
   "cell_type": "code",
   "execution_count": 5,
   "metadata": {},
   "outputs": [],
   "source": [
    "#e_pcc.spring_pos(seed=12)"
   ]
  },
  {
   "cell_type": "code",
   "execution_count": 6,
   "metadata": {},
   "outputs": [],
   "source": [
    "pos =e_pcc.graph_gc.nodes('pos')"
   ]
  },
  {
   "cell_type": "markdown",
   "metadata": {},
   "source": [
    "# Network plot\n",
    "## Figure 1B, left"
   ]
  },
  {
   "cell_type": "code",
   "execution_count": 7,
   "metadata": {},
   "outputs": [],
   "source": [
    "fig, ax =plt.subplots(figsize=(5,5))\n",
    "\n",
    "nx.draw_networkx_nodes(e_pcc.graph_gc,\n",
    "                           node_size=0.2,\n",
    "                           alpha=0.5,\n",
    "                           node_color='k',\n",
    "                           pos=pos,\n",
    "                         ax=ax\n",
    "                           # node_shape=matplotlib.markers.MarkerStyle(marker='o',fillstyle='full')\n",
    "                           )\n",
    "nx.draw_networkx_edges(e_pcc.graph_gc,\n",
    "                           alpha= 0.1,\n",
    "                           width= 0.1,\n",
    "                           edge_color='k',\n",
    "                           pos=pos,\n",
    "                           label='PCC>0.2',ax=ax)\n",
    "if snakemake.params['save']:\n",
    "    plt.savefig(f'{figure_folder}/fig1b_left.png',bbox_inches='tight',dpi=150)"
   ]
  },
  {
   "cell_type": "markdown",
   "metadata": {},
   "source": [
    "## Figure 1B, right"
   ]
  },
  {
   "cell_type": "code",
   "execution_count": 8,
   "metadata": {},
   "outputs": [],
   "source": [
    "e_pcc.figure_path=figure_folder\n",
    "e_pcc.heatmap_annotated( save_figure=snakemake.params['save'] , figure_name = 'fig1b_right')"
   ]
  },
  {
   "cell_type": "markdown",
   "metadata": {},
   "source": [
    "# Figure 1C"
   ]
  },
  {
   "cell_type": "markdown",
   "metadata": {},
   "source": [
    "`get_clustered_nodes` finds the gene names belonging the outmost, smaller cluster for rows and columns as shown."
   ]
  },
  {
   "cell_type": "code",
   "execution_count": 26,
   "metadata": {},
   "outputs": [],
   "source": [
    "cc = e_pcc.df.iloc[e_pcc.get_clustered_nodes('column'),:]\n",
    "rc = e_pcc.df.iloc[e_pcc.get_clustered_nodes('row'),:]"
   ]
  },
  {
   "cell_type": "markdown",
   "metadata": {},
   "source": [
    "rc: row cluster\n",
    "\n",
    "cc: column cluster"
   ]
  },
  {
   "cell_type": "code",
   "execution_count": 34,
   "metadata": {},
   "outputs": [],
   "source": [
    "df = e_pcc.df\n",
    "df['eff_norm']=df['eff']/5183\n",
    "df['sens_norm']=df['sens']/5183\n",
    "df['cc'] = ['cc' if i in cc.orf_name.tolist() else 'other' for i in df.orf_name.tolist()]\n",
    "df['rc'] = ['rc' if i in rc.orf_name.tolist() else 'other' for i in df.orf_name.tolist()]"
   ]
  },
  {
   "cell_type": "code",
   "execution_count": 35,
   "metadata": {},
   "outputs": [],
   "source": [
    "def run_permutation_test(pooled,sizeZ,sizeY,delta):\n",
    "    np.random.shuffle(pooled)\n",
    "    starZ = pooled[:sizeZ]\n",
    "    starY = pooled[-sizeY:]\n",
    "    return starZ.mean() - starY.mean()\n",
    "\n",
    "z = np.array(df.loc[df.rc=='rc','eff_norm'])\n",
    "y = np.array(df.loc[df.rc!='rc','eff_norm'])\n",
    "pooled = np.hstack([z,y])\n",
    "delta = z.mean() - y.mean()\n",
    "numSamples = 10000\n",
    "estimates = np.fromiter(map(lambda x: run_permutation_test(pooled,z.size,y.size,delta),range(numSamples)),dtype=float)\n",
    "diffCount = len(np.where(estimates >= delta)[0])\n",
    "pval_rc = ((float(diffCount)+1)/(float(numSamples)+1))\n",
    "pval_rc"
   ]
  },
  {
   "cell_type": "code",
   "execution_count": 36,
   "metadata": {},
   "outputs": [],
   "source": [
    "z = np.array(df.loc[df.cc=='cc','sens_norm'])\n",
    "y = np.array(df.loc[df.cc!='cc','sens_norm'])\n",
    "pooled = np.hstack([z,y])\n",
    "delta = z.mean() - y.mean()\n",
    "numSamples = 10000\n",
    "estimates = np.fromiter(map(lambda x: run_permutation_test(pooled,z.size,y.size,delta),range(numSamples)),dtype=float)\n",
    "diffCount = len(np.where(estimates >= delta)[0])\n",
    "pval_cc = ((float(diffCount)+1)/(float(numSamples)+1))\n",
    "pval_cc"
   ]
  },
  {
   "cell_type": "code",
   "execution_count": 48,
   "metadata": {},
   "outputs": [],
   "source": [
    "import seaborn as sns\n",
    "color = {'cc': 'orange','other':'k','rc':'orangered'}\n",
    "fig, ax = plt.subplots(1,2,figsize=(8,4))\n",
    "\n",
    "sns.boxplot(data=df, x='rc',y='eff_norm',order=['rc','other'],palette=color,ax=ax[0])\n",
    "ax[0].set_xticklabels(['Distinct\\nRow\\nCluster', 'Other genes'])\n",
    "ax[0].set_xlabel('Row clusters')\n",
    "ax[0].set_ylabel('Effectiveness (a.u.)')\n",
    "ax[0].plot([0,0, 1,1], [0.006, 0.0065, 0.0065, 0.006], lw=1.5, c='k')\n",
    "ax[0].text(.5, 0.0065, \"***\", ha='center', va='bottom', color='k',fontsize='large')\n",
    "ax[0].set_ylim(-0.0001,0.007)\n",
    "\n",
    "sns.boxplot(data=df, x='cc',y='sens_norm',order=['cc','other'],palette=color,ax=ax[1])\n",
    "ax[1].set_xticklabels(['Distinct\\nColumn\\nCluster', 'Other genes'])\n",
    "ax[1].set_xlabel('Columns clusters')\n",
    "ax[1].set_ylabel('Sensitivity (a.u.)')\n",
    "ax[1].plot([0,0, 1,1], [0.007, 0.0075, 0.0075, 0.007], lw=1.5, c='k')\n",
    "ax[1].text(.5, 0.0075, \"***\", ha='center', va='bottom', color='k',fontsize='large')\n",
    "ax[1].set_ylim(-0.0001,0.0081)\n",
    "\n",
    "plt.tight_layout()\n",
    "\n",
    "if snakemake.params['save']:\n",
    "    plt.savefig(f'{figure_folder}/fig1c.pdf',bbox_inches='tight')"
   ]
  },
  {
   "cell_type": "markdown",
   "metadata": {},
   "source": [
    "# Figure 1D"
   ]
  },
  {
   "cell_type": "code",
   "execution_count": 12,
   "metadata": {},
   "outputs": [],
   "source": [
    "fig, ax = plt.subplots(figsize=(12,12))\n",
    "#axs = ax.ravel()\n",
    "legend_elements = [    ]\n",
    "\n",
    "#for i in range(len(sensor_order)):\n",
    "nx.draw_networkx_nodes(e_pcc.graph_gc, ax =ax , pos=pos,node_size=1, node_color='black')\n",
    "nx.draw_networkx_edges(e_pcc.graph_gc, ax =ax , pos=pos,node_size=1, edge_color='black',alpha=0.2, width=0.1)\n",
    "nx.draw_networkx_nodes(e_pcc.graph_gc, \n",
    "                       nodelist=rc.orf_name.tolist(),\n",
    "                       ax=ax, \n",
    "                       pos=pos,\n",
    "                       node_color='orangered',\n",
    "                      edgecolors='black',\n",
    "                      node_size=100,\n",
    "                      node_shape='d')\n",
    "\n",
    "ax.set_facecolor('white')\n",
    "legend_elements.extend(\n",
    "    [Line2D([0], [0], marker='d', color='black', label='Row cluster\\ngenes',\n",
    "                              markerfacecolor='orangered', markersize=50, linestyle=\"None\"),\n",
    "     Line2D([0], [0], marker='o', color='black', label='Other Genes',\n",
    "                              markerfacecolor='black', markersize=25, linestyle=\"None\"),\n",
    "#                    Line2D([0], [0], marker='o', color='black', label='Effectors',\n",
    "#                               markerfacecolor='black', markersize=10, linestyle=\"None\"),\n",
    "#                    Line2D([0], [0], marker='^', color='black', label='Sensors',\n",
    "#                               markerfacecolor='black', markersize=10, linestyle=\"None\"),\n",
    "                       Line2D([0], [0], marker='o', color='black', label= 'High\\nfunctional\\nsimilarity',\n",
    "                              markerfacecolor='black', markersize=0, linestyle=\"-\", alpha=0.5,lw=10)\n",
    "    ]\n",
    ")\n",
    "lgd = ax.legend(handles=legend_elements, fontsize=40,loc='center left', bbox_to_anchor=(1.1, 0.5))\n",
    "\n",
    "\n",
    "#nx.draw_networkx_edges(nx.induced_subgraph(e_pcc.graph_gc, effector_pcc.orf_name.tolist()), ax=ax , pos=pos, edge_color='blue',alpha=0.5)\n",
    "if snakemake.params['save']:\n",
    "    plt.savefig(f'{figure_folder}/fig1d_up.png',bbox_inches='tight',dpi=150)"
   ]
  },
  {
   "cell_type": "code",
   "execution_count": 13,
   "metadata": {},
   "outputs": [],
   "source": [
    "fig, ax = plt.subplots(figsize=(12,12))\n",
    "#axs = ax.ravel()\n",
    "legend_elements = [    ]\n",
    "\n",
    "#for i in range(len(sensor_order)):\n",
    "nx.draw_networkx_nodes(e_pcc.graph_gc, ax =ax , pos=pos,node_size=1, node_color='black')\n",
    "nx.draw_networkx_edges(e_pcc.graph_gc, ax =ax , pos=pos,node_size=1, edge_color='black',alpha=0.2, width=0.1)\n",
    "nx.draw_networkx_nodes(e_pcc.graph_gc, \n",
    "                       nodelist=cc.orf_name.tolist(),\n",
    "                       ax=ax, \n",
    "                       pos=pos,\n",
    "                       node_color='orange',\n",
    "                      edgecolors='black',\n",
    "                      node_size=100,\n",
    "                      node_shape='D')\n",
    "\n",
    "ax.set_facecolor('white')\n",
    "legend_elements.extend([\n",
    "    Line2D([0], [0], marker='D', color='black', label='Column cluster\\ngenes',\n",
    "                              markerfacecolor='orange', markersize=50, linestyle=\"None\"),\n",
    "    Line2D([0], [0], marker='o', color='black', label='Other Genes',\n",
    "                              markerfacecolor='black', markersize=25, linestyle=\"None\"),\n",
    "                       Line2D([0], [0], marker='o', color='black', label= 'High\\nfunctional\\nsimilarity',\n",
    "                              markerfacecolor='black', markersize=0, linestyle=\"-\", alpha=0.5,lw=10),\n",
    "    ]\n",
    ")\n",
    "lgd = ax.legend(handles=legend_elements, fontsize=40,loc='center left', bbox_to_anchor=(1.1, 0.5))\n",
    "\n",
    "\n",
    "#nx.draw_networkx_edges(nx.induced_subgraph(e_pcc.graph_gc, effector_pcc.orf_name.tolist()), ax=ax , pos=pos, edge_color='blue',alpha=0.5)\n",
    "if snakemake.params['save']:\n",
    "    plt.savefig(f'{figure_folder}/fig1d_bottom.png',bbox_inches='tight',dpi=150)"
   ]
  },
  {
   "cell_type": "markdown",
   "metadata": {},
   "source": [
    "# Figure 3C"
   ]
  },
  {
   "cell_type": "code",
   "execution_count": 31,
   "metadata": {},
   "outputs": [],
   "source": [
    "change_go_group_names = snakemake.params['change_go_group_name']\n",
    "sensor_go_rename = {\n",
    "  \"cellular response to iron ion starvation\":'Iron ion transport' ,\n",
    "\"mitochondria-nucleus signaling pathway\":  \"Mitochondria-nucleus\\nsignaling pathway\\nand\\nTricarboxylic acid cycle\",\n",
    "\"phenylalanine transport\":  \"Phenylalanine transport\",\n",
    "\"hexose metabolic process\":  \"Hexose metabolic process\",\n",
    "\"tricarboxylic acid cycle\":  \"Tricarboxylic acid cycle\"\n",
    "}"
   ]
  },
  {
   "cell_type": "code",
   "execution_count": 32,
   "metadata": {},
   "outputs": [],
   "source": [
    "sensors_pcc = pd.read_csv(snakemake.input.sensors_pcc)\n",
    "sensor_colors = [\"#377EB8\", \"#4DAF4A\", \"#984EA3\", \"#FF7F00\", \"#FFFF33\"]\n",
    "if change_go_group_names:\n",
    "    sensors_pcc['go_group']=sensors_pcc['go_group'].map(sensor_go_rename,na_action='ignore')\n",
    "sensor_order = sensors_pcc.groupby('go_group').sens.median().sort_values().index.tolist()"
   ]
  },
  {
   "cell_type": "code",
   "execution_count": 33,
   "metadata": {},
   "outputs": [],
   "source": [
    "fig, ax = plt.subplots(figsize=(9,9))\n",
    "#axs = ax.ravel()\n",
    "legend_elements = [    ]\n",
    "\n",
    "#for i in range(len(sensor_order)):\n",
    "e_pcc.plot_network_spring(ax=ax,\n",
    "                          node_size=1,\n",
    "                          node_color='black',\n",
    " #                        node_size = [100 if i in sensors_pcc.orf_name.values or i in effector_pcc.orf_name.values else 1 for i in e_pcc.nodes],\n",
    "                         #node_color = ['red' if i in sensors_pcc.orf_name.values else 'blue' if i in effector_pcc.orf_name.values else 'black' for i in e_pcc.nodes],\n",
    "                         edge_color='black',savefig=False)\n",
    "    #                         node_shape=['^' if i in sensors_pcc.orf_name.values else 'v' if i in effector_pcc.orf_name.values else 'o' for i in e_pcc.nodes])\n",
    "    # nx.draw_networkx_nodes(e_pcc.graph_gc, nodelist=sensors_pcc.orf_name.values, node_size=200, pos=pos,\n",
    "    #                           node_color='black',\n",
    "    #                           node_shape='^',edgecolors='black',\n",
    "    #                           linewidths=1)\n",
    "nx.draw_networkx_nodes(nx.induced_subgraph(e_pcc.graph_gc, sensors_pcc.orf_name.tolist()),\n",
    "                       pos=pos, \n",
    "                       node_color='black', alpha=1, node_shape='^')\n",
    "\n",
    "for itr, i in enumerate(sensor_order):\n",
    "    #print(i, effector_colors[itr])\n",
    "\n",
    "    orf_names_to_plot = sensors_pcc.loc[sensors_pcc.go_group==i, 'orf_name'].tolist()\n",
    "    nx.draw_networkx_nodes(e_pcc.graph_gc, nodelist=orf_names_to_plot, node_size=200, pos=pos,\n",
    "                          node_color=sensor_colors[itr],\n",
    "                          node_shape='^',edgecolors='black',\n",
    "                          linewidths=1)\n",
    "    legend_elements.append(\n",
    "        Line2D([0], [0], marker='^', color='black', label=f'{i}',\n",
    "                              markerfacecolor=sensor_colors[itr], markersize=30, linestyle=\"None\")\n",
    "    )\n",
    "ax.set_facecolor('white')\n",
    "legend_elements.append(\n",
    "        Line2D([0], [0], marker='^', color='black', label=f'No GO Enrichment',\n",
    "                              markerfacecolor='black', markersize=30, linestyle=\"None\")\n",
    "    )\n",
    "legend_elements.extend(\n",
    "    [Line2D([0], [0], marker='o', color='black', label='Other Genes',\n",
    "                              markerfacecolor='black', markersize=10, linestyle=\"None\"),\n",
    "#                    Line2D([0], [0], marker='o', color='black', label='Effectors',\n",
    "#                               markerfacecolor='black', markersize=10, linestyle=\"None\"),\n",
    "#                    Line2D([0], [0], marker='^', color='black', label='Sensors',\n",
    "#                               markerfacecolor='black', markersize=10, linestyle=\"None\"),\n",
    "                       Line2D([0], [0], marker='o', color='black', label= 'High functional similarity',\n",
    "                              markerfacecolor='black', markersize=0, linestyle=\"-\", alpha=0.5, lw=10),\n",
    "                   Line2D([0], [0], marker='o', color='red', label= 'Sensor-Sensor edges',\n",
    "                              markerfacecolor='#018571', markersize=0, linestyle=\"-\",lw=10)\n",
    "                   #Line2D([0], [0], marker='o', color='blue', label= 'Effector-Effector edges',\n",
    "    #                          markerfacecolor='#a6611a', markersize=0, linestyle=\"-\")\n",
    "    ]\n",
    ")\n",
    "#lgd = ax.legend(handles=legend_elements, fontsize=22,loc='center left', bbox_to_anchor=(1.1, 0.5),ncol=5)\n",
    "nx.draw_networkx_edges(nx.induced_subgraph(e_pcc.graph_gc, sensors_pcc.orf_name.tolist()),pos=pos, edge_color='red', alpha=0.5)\n",
    "if snakemake.params['save']:\n",
    "    plt.savefig(f'{figure_folder}/fig3c.png',bbox_inches='tight',dpi=150)"
   ]
  },
  {
   "cell_type": "code",
   "execution_count": 34,
   "metadata": {},
   "outputs": [],
   "source": [
    "fig = plt.figure()\n",
    "figlegend = plt.figure(figsize=(3,1))\n",
    "ax = fig.add_subplot(111)\n",
    "#lines = ax.plot(range(10), plt.randn(10), range(10), plt.randn(10))\n",
    "ax.axis('off')\n",
    "lgd = ax.legend(handles=legend_elements, fontsize=40, loc='center',ncol=2)\n",
    "if snakemake.params['save']:\n",
    "    fig.savefig(f'{figure_folder}/fig3c_legend.png',bbox_inches='tight')"
   ]
  },
  {
   "cell_type": "code",
   "execution_count": 36,
   "metadata": {},
   "outputs": [],
   "source": [
    "# antenna_legend = [legend_elements[i] for i in [0,2,3,4,5]]\n",
    "# antenna_legend.extend(\n",
    "#     [Line2D([0], [0], marker='o', color='black', label='Sensor to network connection node',\n",
    "#                               markerfacecolor='black', markersize=30, linestyle=\"None\"),\n",
    "# #                    Line2D([0], [0], marker='o', color='black', label='Effectors',\n",
    "# #                               markerfacecolor='black', markersize=10, linestyle=\"None\"),\n",
    "# #                    Line2D([0], [0], marker='^', color='black', label='Sensors',\n",
    "# #                               markerfacecolor='black', markersize=10, linestyle=\"None\"),\n",
    "#                        Line2D([0], [0], marker='o', color='black', label= 'Sensor - nonsensor edges',\n",
    "#                               markerfacecolor='black', markersize=0, linestyle=\"-\", alpha=0.5, lw=10),\n",
    "#     Line2D([0], [0], marker='o', color='red', label= 'Sensor - sensor edges',\n",
    "#                               markerfacecolor='#018571', markersize=0, linestyle=\"-\",lw=10)]\n",
    "# )\n",
    "# fig = plt.figure()\n",
    "# figlegend = plt.figure(figsize=(3,1))\n",
    "# ax = fig.add_subplot(111)\n",
    "# #lines = ax.plot(range(10), plt.randn(10), range(10), plt.randn(10))\n",
    "# ax.axis('off')\n",
    "# lgd = ax.legend(handles=antenna_legend, fontsize=40, loc='center',ncol=2)\n",
    "# if snakemake.params['save']:\n",
    "#     fig.savefig(f'{figure_folder}/fig3f_legend.png',bbox_inches='tight')"
   ]
  },
  {
   "cell_type": "markdown",
   "metadata": {},
   "source": [
    "# Figure 4B"
   ]
  },
  {
   "cell_type": "code",
   "execution_count": 12,
   "metadata": {},
   "outputs": [],
   "source": [
    "effector_pcc = pd.read_csv(snakemake.input.effector_pcc)\n",
    "effector_colors = [\"#A65628\", \"#F781BF\", \"#999999\"]\n",
    "effector_order_orig = effector_pcc.groupby('go_group').eff.median().sort_values().index.tolist()"
   ]
  },
  {
   "cell_type": "code",
   "execution_count": 13,
   "metadata": {},
   "outputs": [],
   "source": [
    "if change_go_group_names:\n",
    "    effector_go_group_map = {\n",
    "        effector_order_orig[0]:\"Chromosome segregation\",\n",
    "        effector_order_orig[1]:\"Golgi vesicle transport\",\n",
    "        effector_order_orig[2]:\"Respiratory complex assembly\"\n",
    "    }\n",
    "    effector_pcc['go_group'] = effector_pcc['go_group'].map(effector_go_group_map)\n",
    "effector_order = effector_pcc.groupby('go_group').eff.median().sort_values().index.tolist()"
   ]
  },
  {
   "cell_type": "code",
   "execution_count": 22,
   "metadata": {},
   "outputs": [],
   "source": [
    "fig, ax = plt.subplots(figsize=(10,10))\n",
    "#axs = ax.ravel()\n",
    "legend_elements = [    ]\n",
    "\n",
    "#for i in range(len(sensor_order)):\n",
    "e_pcc.plot_network_spring(ax=ax,\n",
    "                          node_size=1,\n",
    "                          node_color='black',\n",
    " #                        node_size = [100 if i in sensors_pcc.orf_name.values or i in effector_pcc.orf_name.values else 1 for i in e_pcc.nodes],\n",
    "                         #node_color = ['red' if i in sensors_pcc.orf_name.values else 'blue' if i in effector_pcc.orf_name.values else 'black' for i in e_pcc.nodes],\n",
    "                         edge_color='black',savefig=False)\n",
    "    #                         node_shape=['^' if i in sensors_pcc.orf_name.values else 'v' if i in effector_pcc.orf_name.values else 'o' for i in e_pcc.nodes])\n",
    "    # nx.draw_networkx_nodes(e_pcc.graph_gc, nodelist=sensors_pcc.orf_name.values, node_size=200, pos=pos,\n",
    "    #                           node_color='black',\n",
    "    #                           node_shape='^',edgecolors='black',\n",
    "    #                           linewidths=1)\n",
    "\n",
    "for itr, i in enumerate(effector_order):\n",
    "   # print(i, effector_colors[itr])\n",
    "    #print(itr)\n",
    "    \n",
    "    orf_names_to_plot = effector_pcc.loc[effector_pcc.go_group==i, 'orf_name'].tolist()\n",
    "    nx.draw_networkx_nodes(e_pcc.graph_gc, nodelist=orf_names_to_plot, node_size=200, pos=pos,\n",
    "                          node_color=effector_colors[itr],\n",
    "                          node_shape='s',edgecolors='black',\n",
    "                          linewidths=1)\n",
    "    legend_elements.append(\n",
    "        Line2D([0], [0], marker='s', color='black', label=f'{i}',\n",
    "                              markerfacecolor=effector_colors[itr], markersize=20, linestyle=\"None\")\n",
    "    )\n",
    "ax.set_facecolor('white')\n",
    "legend_elements.extend(\n",
    "    [Line2D([0], [0], marker='o', color='black', label='Other Genes',\n",
    "                              markerfacecolor='black', markersize=10, linestyle=\"None\"),\n",
    "#                    Line2D([0], [0], marker='o', color='black', label='Effectors',\n",
    "#                               markerfacecolor='black', markersize=10, linestyle=\"None\"),\n",
    "#                    Line2D([0], [0], marker='^', color='black', label='Sensors',\n",
    "#                               markerfacecolor='black', markersize=10, linestyle=\"None\"),\n",
    "                       Line2D([0], [0], marker='o', color='black', label= 'High functional similarity',\n",
    "                              markerfacecolor='black', markersize=0, linestyle=\"-\", alpha=0.5,lw=10),\n",
    "                   Line2D([0], [0], marker='o', color='blue', label= 'Effector-Effector edges',\n",
    "                             markerfacecolor='#a6611a', markersize=0, linestyle=\"-\",lw=10)\n",
    "    ]\n",
    ")\n",
    "lgd = ax.legend(handles=legend_elements, fontsize=22,loc='center left', bbox_to_anchor=(1.1, 0.5))\n",
    "\n",
    "\n",
    "nx.draw_networkx_edges(nx.induced_subgraph(e_pcc.graph_gc, effector_pcc.orf_name.tolist()), ax=ax , pos=pos, edge_color='blue',alpha=0.5)\n",
    "if snakemake.params['save']:\n",
    "    plt.savefig(f'{figure_folder}/fig4b.png',bbox_inches='tight',dpi=150)"
   ]
  },
  {
   "cell_type": "markdown",
   "metadata": {},
   "source": [
    "# Figure 5D/F"
   ]
  },
  {
   "cell_type": "code",
   "execution_count": 23,
   "metadata": {},
   "outputs": [],
   "source": [
    "#define source and target effector/sensor clusters\n",
    "plot_paths = snakemake.params['plot_paths']\n",
    "if plot_paths:\n",
    "    eff_group = 'Chromosome segregation'\n",
    "    sens_group = \"Mitochondria-nucleus\\nsignaling pathway\\nand\\nTricarboxylic acid cycle\"\n",
    "    sub_list = []\n",
    "    #select source and target gene from respective clusters\n",
    "    source = 'ctf4'\n",
    "    target = 'rtg1'\n",
    "    #calculate source and tartget\n",
    "    l1 = e_pcc.get_prs_weighted_path(source,target)[1]\n",
    "    sub_list.extend(l1)\n",
    "    sub = nx.induced_subgraph(e_pcc.graph_gc, l1)\n",
    "    node_sub=nx.induced_subgraph(sub,[i for i in l1 if i !=target])\n",
    "\n",
    "    fig, ax = plt.subplots(figsize=(10,10))\n",
    "    legend_elements = [    ]\n",
    "    nx.draw_networkx_nodes(e_pcc.graph_gc, pos=pos, node_size=1, ax=ax, node_color='black')\n",
    "\n",
    "    nx.draw_networkx_nodes(node_sub,pos=pos,alpha=0.8,\n",
    "                        #  node_size = [prs_mat_df.loc[source,:].to_dict()[i]*10000 for i in sub.nodes],\n",
    "        node_color = 'black')\n",
    "\n",
    "    nx.draw_networkx_edges(sub,pos=pos)\n",
    "    for itr, i in enumerate(sensor_order):\n",
    "        if i ==sens_group:\n",
    "            orf_names_to_plot = sensors_pcc.loc[sensors_pcc.go_group==i, 'orf_name'].tolist()\n",
    "            sub_list.extend(orf_names_to_plot)\n",
    "\n",
    "            nx.draw_networkx_nodes(e_pcc.graph_gc, nodelist=orf_names_to_plot, node_size=200, pos=pos,\n",
    "                                node_color=sensor_colors[itr],\n",
    "                                node_shape='^',edgecolors='black',\n",
    "                                linewidths=1)\n",
    "            nx.draw_networkx_edges(nx.induced_subgraph(e_pcc.graph_gc, orf_names_to_plot), ax=ax , pos=pos, edge_color='red',alpha=0.5)\n",
    "\n",
    "            legend_elements.append(\n",
    "                Line2D([0], [0], marker='^', color='black', label=f'Sensors ({i})',\n",
    "                                    markerfacecolor=sensor_colors[itr], markersize=12, linestyle=\"None\")\n",
    "            )\n",
    "\n",
    "    for itr, i in enumerate(effector_order):\n",
    "        if i == eff_group:\n",
    "            orf_names_to_plot = effector_pcc.loc[effector_pcc.go_group==i,'orf_name'].tolist()\n",
    "            sub_list.extend(orf_names_to_plot)\n",
    "\n",
    "            nx.draw_networkx_nodes(e_pcc.graph_gc, nodelist=orf_names_to_plot, node_size=200, pos=pos,\n",
    "                                node_color=effector_colors[itr],\n",
    "                                node_shape='s',edgecolors='black',\n",
    "                                linewidths=1)\n",
    "            nx.draw_networkx_edges(nx.induced_subgraph(e_pcc.graph_gc, orf_names_to_plot), ax=ax , pos=pos, edge_color='blue',alpha=0.5)\n",
    "    ax.set_facecolor('white')\n",
    "    if snakemake.params['save']:\n",
    "        plt.savefig(f'{figure_folder}/fig5d.png',bbox_inches='tight',dpi=150)\n",
    "        \n",
    "    nx.write_edgelist(nx.induced_subgraph(e_pcc.graph_gc,sub_list),f'{figure_folder}/path1.csv', delimiter=',',data=False)"
   ]
  },
  {
   "cell_type": "code",
   "execution_count": 24,
   "metadata": {},
   "outputs": [],
   "source": [
    "if plot_paths:\n",
    "    eff_group = 'Respiratory complex assembly'\n",
    "    sens_group = 'Iron ion transport'\n",
    "    sub_list  = [ ]\n",
    "    source = 'coa1'\n",
    "    target = 'fet3'\n",
    "    l1 = e_pcc.get_prs_weighted_path(source,target)[1]\n",
    "    sub_list.extend(l1)\n",
    "    sub = nx.induced_subgraph(e_pcc.graph_gc, l1)\n",
    "    node_sub=nx.induced_subgraph(sub,[i for i in l1 if i !=target])\n",
    "    #print(l1)\n",
    "    fig, ax = plt.subplots(figsize=(10,10))\n",
    "    legend_elements = [    ]\n",
    "    nx.draw_networkx_nodes(e_pcc.graph_gc, pos=pos, node_size=1, ax=ax, node_color='black')\n",
    "    nx.draw_networkx_nodes(node_sub,pos=pos,alpha=1,\n",
    "                        #  node_size = [prs_mat_df.loc[source,:].to_dict()[i]*10000 for i in sub.nodes],\n",
    "                        # node_shape = ['^' if i == target else 'o' for i in sub.nodes],\n",
    "        node_color = [sensor_colors[2]  if i in ['sit1','ftr1'] else 'black' for i in node_sub.nodes])\n",
    "    nx.draw_networkx_edges(sub,pos=pos)\n",
    "    for itr, i in enumerate(sensor_order):\n",
    "        #print(i, effector_colors[itr])\n",
    "        if i ==sens_group:\n",
    "            orf_names_to_plot = sensors_pcc.loc[sensors_pcc.go_group==i, 'orf_name'].tolist()\n",
    "            sub_list.extend(orf_names_to_plot)\n",
    "            nx.draw_networkx_nodes(e_pcc.graph_gc, nodelist=orf_names_to_plot, node_size=200, pos=pos,\n",
    "                                node_color=sensor_colors[itr],\n",
    "                                node_shape='^',edgecolors='black',\n",
    "                                linewidths=1)\n",
    "            nx.draw_networkx_edges(nx.induced_subgraph(e_pcc.graph_gc, orf_names_to_plot), ax=ax , pos=pos, edge_color='red',alpha=0.5)\n",
    "\n",
    "            legend_elements.append(\n",
    "                Line2D([0], [0], marker='^', color='black', label=f'Sensors ({i})',\n",
    "                                    markerfacecolor=sensor_colors[itr], markersize=12, linestyle=\"None\")\n",
    "            )\n",
    "\n",
    "    for itr, i in enumerate(effector_order):\n",
    "        if i == eff_group:\n",
    "            orf_names_to_plot = effector_pcc.loc[effector_pcc.go_group==i,'orf_name'].tolist()\n",
    "            sub_list.extend(orf_names_to_plot)\n",
    "            nx.draw_networkx_nodes(e_pcc.graph_gc, nodelist=orf_names_to_plot, node_size=200, pos=pos,\n",
    "                                node_color=effector_colors[itr],\n",
    "                                node_shape='s',edgecolors='black',\n",
    "                                linewidths=1)\n",
    "            nx.draw_networkx_edges(nx.induced_subgraph(e_pcc.graph_gc, orf_names_to_plot), ax=ax , pos=pos, edge_color='blue',alpha=0.5)\n",
    "\n",
    "    ax.set_facecolor('white')\n",
    "    if snakemake.params['save']:\n",
    "        plt.savefig(f'{figure_folder}/fig5f.png',bbox_inches='tight',dpi=150)\n",
    "        \n",
    "    nx.write_edgelist(nx.induced_subgraph(e_pcc.graph_gc,sub_list),f'{figure_folder}/path2.csv', delimiter=',',data=False)"
   ]
  },
  {
   "cell_type": "code",
   "execution_count": null,
   "metadata": {},
   "outputs": [],
   "source": []
  }
 ],
 "metadata": {
  "jupytext": {
   "formats": "ipynb,py:percent"
  },
  "kernelspec": {
   "display_name": "Python 3",
   "language": "python",
   "name": "python3"
  },
  "language_info": {
   "codemirror_mode": {
    "name": "ipython",
    "version": 3
   },
   "file_extension": ".py",
   "mimetype": "text/x-python",
   "name": "python",
   "nbconvert_exporter": "python",
   "pygments_lexer": "ipython3",
   "version": "3.9.4"
  },
  "toc": {
   "base_numbering": 1,
   "nav_menu": {},
   "number_sections": true,
   "sideBar": true,
   "skip_h1_title": false,
   "title_cell": "Table of Contents",
   "title_sidebar": "Contents",
   "toc_cell": true,
   "toc_position": {},
   "toc_section_display": true,
   "toc_window_display": false
  }
 },
 "nbformat": 4,
 "nbformat_minor": 2
}
